{
 "cells": [
  {
   "cell_type": "code",
   "execution_count": 1,
   "metadata": {},
   "outputs": [
    {
     "name": "stdout",
     "output_type": "stream",
     "text": [
      "WARNING:tensorflow:From c:\\users\\donfa\\appdata\\local\\programs\\python\\python39\\lib\\site-packages\\keras\\src\\losses.py:2976: The name tf.losses.sparse_softmax_cross_entropy is deprecated. Please use tf.compat.v1.losses.sparse_softmax_cross_entropy instead.\n",
      "\n"
     ]
    }
   ],
   "source": [
    "# importing libraries\n",
    "from nltk.corpus import stopwords\n",
    "import pandas as pd\n",
    "import numpy as np\n",
    "import matplotlib.pyplot as plt\n",
    "from sklearn.preprocessing import LabelEncoder\n",
    "from keras import Sequential\n",
    "from keras.layers import Embedding, Dense, LSTM\n",
    "from keras.preprocessing.text import one_hot\n",
    "from keras.utils import pad_sequences\n",
    "import nltk\n",
    "from nltk.stem.snowball import SnowballStemmer\n",
    "import regex as re\n",
    "from nltk.tokenize import sent_tokenize\n",
    "from sklearn.metrics import accuracy_score, confusion_matrix, classification_report\n",
    "from sklearn.model_selection import train_test_split\n",
    "import warnings\n",
    "warnings.filterwarnings('ignore')"
   ]
  },
  {
   "cell_type": "code",
   "execution_count": 2,
   "metadata": {
    "_kg_hide-output": true
   },
   "outputs": [
    {
     "name": "stderr",
     "output_type": "stream",
     "text": [
      "[nltk_data] Downloading package stopwords to\n",
      "[nltk_data]     C:\\Users\\donfa\\AppData\\Roaming\\nltk_data...\n",
      "[nltk_data]   Package stopwords is already up-to-date!\n",
      "[nltk_data] Downloading package punkt to\n",
      "[nltk_data]     C:\\Users\\donfa\\AppData\\Roaming\\nltk_data...\n",
      "[nltk_data]   Package punkt is already up-to-date!\n",
      "[nltk_data] Downloading package wordnet to\n",
      "[nltk_data]     C:\\Users\\donfa\\AppData\\Roaming\\nltk_data...\n",
      "[nltk_data]   Package wordnet is already up-to-date!\n"
     ]
    }
   ],
   "source": [
    "# download some packages\n",
    "nltk.download('stopwords')\n",
    "nltk.download('punkt')\n",
    "nltk.download('wordnet')\n",
    "\n",
    "stop_words = stopwords.words('english')"
   ]
  },
  {
   "cell_type": "code",
   "execution_count": 3,
   "metadata": {},
   "outputs": [],
   "source": [
    "# datasets\n",
    "df_fake = pd.read_csv(\"News _dataset/Fake.csv\")\n",
    "df_true = pd.read_csv(\"News _dataset/True.csv\")"
   ]
  },
  {
   "cell_type": "code",
   "execution_count": 4,
   "metadata": {},
   "outputs": [
    {
     "data": {
      "text/html": [
       "<div>\n",
       "<style scoped>\n",
       "    .dataframe tbody tr th:only-of-type {\n",
       "        vertical-align: middle;\n",
       "    }\n",
       "\n",
       "    .dataframe tbody tr th {\n",
       "        vertical-align: top;\n",
       "    }\n",
       "\n",
       "    .dataframe thead th {\n",
       "        text-align: right;\n",
       "    }\n",
       "</style>\n",
       "<table border=\"1\" class=\"dataframe\">\n",
       "  <thead>\n",
       "    <tr style=\"text-align: right;\">\n",
       "      <th></th>\n",
       "      <th>title</th>\n",
       "      <th>text</th>\n",
       "      <th>subject</th>\n",
       "      <th>date</th>\n",
       "    </tr>\n",
       "  </thead>\n",
       "  <tbody>\n",
       "    <tr>\n",
       "      <th>0</th>\n",
       "      <td>As U.S. budget fight looms, Republicans flip t...</td>\n",
       "      <td>WASHINGTON (Reuters) - The head of a conservat...</td>\n",
       "      <td>politicsNews</td>\n",
       "      <td>December 31, 2017</td>\n",
       "    </tr>\n",
       "    <tr>\n",
       "      <th>1</th>\n",
       "      <td>U.S. military to accept transgender recruits o...</td>\n",
       "      <td>WASHINGTON (Reuters) - Transgender people will...</td>\n",
       "      <td>politicsNews</td>\n",
       "      <td>December 29, 2017</td>\n",
       "    </tr>\n",
       "    <tr>\n",
       "      <th>2</th>\n",
       "      <td>Senior U.S. Republican senator: 'Let Mr. Muell...</td>\n",
       "      <td>WASHINGTON (Reuters) - The special counsel inv...</td>\n",
       "      <td>politicsNews</td>\n",
       "      <td>December 31, 2017</td>\n",
       "    </tr>\n",
       "    <tr>\n",
       "      <th>3</th>\n",
       "      <td>FBI Russia probe helped by Australian diplomat...</td>\n",
       "      <td>WASHINGTON (Reuters) - Trump campaign adviser ...</td>\n",
       "      <td>politicsNews</td>\n",
       "      <td>December 30, 2017</td>\n",
       "    </tr>\n",
       "    <tr>\n",
       "      <th>4</th>\n",
       "      <td>Trump wants Postal Service to charge 'much mor...</td>\n",
       "      <td>SEATTLE/WASHINGTON (Reuters) - President Donal...</td>\n",
       "      <td>politicsNews</td>\n",
       "      <td>December 29, 2017</td>\n",
       "    </tr>\n",
       "  </tbody>\n",
       "</table>\n",
       "</div>"
      ],
      "text/plain": [
       "                                               title  \\\n",
       "0  As U.S. budget fight looms, Republicans flip t...   \n",
       "1  U.S. military to accept transgender recruits o...   \n",
       "2  Senior U.S. Republican senator: 'Let Mr. Muell...   \n",
       "3  FBI Russia probe helped by Australian diplomat...   \n",
       "4  Trump wants Postal Service to charge 'much mor...   \n",
       "\n",
       "                                                text       subject  \\\n",
       "0  WASHINGTON (Reuters) - The head of a conservat...  politicsNews   \n",
       "1  WASHINGTON (Reuters) - Transgender people will...  politicsNews   \n",
       "2  WASHINGTON (Reuters) - The special counsel inv...  politicsNews   \n",
       "3  WASHINGTON (Reuters) - Trump campaign adviser ...  politicsNews   \n",
       "4  SEATTLE/WASHINGTON (Reuters) - President Donal...  politicsNews   \n",
       "\n",
       "                 date  \n",
       "0  December 31, 2017   \n",
       "1  December 29, 2017   \n",
       "2  December 31, 2017   \n",
       "3  December 30, 2017   \n",
       "4  December 29, 2017   "
      ]
     },
     "execution_count": 4,
     "metadata": {},
     "output_type": "execute_result"
    }
   ],
   "source": [
    "df_true.head()"
   ]
  },
  {
   "cell_type": "code",
   "execution_count": 5,
   "metadata": {},
   "outputs": [
    {
     "data": {
      "text/html": [
       "<div>\n",
       "<style scoped>\n",
       "    .dataframe tbody tr th:only-of-type {\n",
       "        vertical-align: middle;\n",
       "    }\n",
       "\n",
       "    .dataframe tbody tr th {\n",
       "        vertical-align: top;\n",
       "    }\n",
       "\n",
       "    .dataframe thead th {\n",
       "        text-align: right;\n",
       "    }\n",
       "</style>\n",
       "<table border=\"1\" class=\"dataframe\">\n",
       "  <thead>\n",
       "    <tr style=\"text-align: right;\">\n",
       "      <th></th>\n",
       "      <th>title</th>\n",
       "      <th>text</th>\n",
       "      <th>subject</th>\n",
       "      <th>date</th>\n",
       "    </tr>\n",
       "  </thead>\n",
       "  <tbody>\n",
       "    <tr>\n",
       "      <th>0</th>\n",
       "      <td>Donald Trump Sends Out Embarrassing New Year’...</td>\n",
       "      <td>Donald Trump just couldn t wish all Americans ...</td>\n",
       "      <td>News</td>\n",
       "      <td>December 31, 2017</td>\n",
       "    </tr>\n",
       "    <tr>\n",
       "      <th>1</th>\n",
       "      <td>Drunk Bragging Trump Staffer Started Russian ...</td>\n",
       "      <td>House Intelligence Committee Chairman Devin Nu...</td>\n",
       "      <td>News</td>\n",
       "      <td>December 31, 2017</td>\n",
       "    </tr>\n",
       "    <tr>\n",
       "      <th>2</th>\n",
       "      <td>Sheriff David Clarke Becomes An Internet Joke...</td>\n",
       "      <td>On Friday, it was revealed that former Milwauk...</td>\n",
       "      <td>News</td>\n",
       "      <td>December 30, 2017</td>\n",
       "    </tr>\n",
       "    <tr>\n",
       "      <th>3</th>\n",
       "      <td>Trump Is So Obsessed He Even Has Obama’s Name...</td>\n",
       "      <td>On Christmas day, Donald Trump announced that ...</td>\n",
       "      <td>News</td>\n",
       "      <td>December 29, 2017</td>\n",
       "    </tr>\n",
       "    <tr>\n",
       "      <th>4</th>\n",
       "      <td>Pope Francis Just Called Out Donald Trump Dur...</td>\n",
       "      <td>Pope Francis used his annual Christmas Day mes...</td>\n",
       "      <td>News</td>\n",
       "      <td>December 25, 2017</td>\n",
       "    </tr>\n",
       "  </tbody>\n",
       "</table>\n",
       "</div>"
      ],
      "text/plain": [
       "                                               title  \\\n",
       "0   Donald Trump Sends Out Embarrassing New Year’...   \n",
       "1   Drunk Bragging Trump Staffer Started Russian ...   \n",
       "2   Sheriff David Clarke Becomes An Internet Joke...   \n",
       "3   Trump Is So Obsessed He Even Has Obama’s Name...   \n",
       "4   Pope Francis Just Called Out Donald Trump Dur...   \n",
       "\n",
       "                                                text subject  \\\n",
       "0  Donald Trump just couldn t wish all Americans ...    News   \n",
       "1  House Intelligence Committee Chairman Devin Nu...    News   \n",
       "2  On Friday, it was revealed that former Milwauk...    News   \n",
       "3  On Christmas day, Donald Trump announced that ...    News   \n",
       "4  Pope Francis used his annual Christmas Day mes...    News   \n",
       "\n",
       "                date  \n",
       "0  December 31, 2017  \n",
       "1  December 31, 2017  \n",
       "2  December 30, 2017  \n",
       "3  December 29, 2017  \n",
       "4  December 25, 2017  "
      ]
     },
     "execution_count": 5,
     "metadata": {},
     "output_type": "execute_result"
    }
   ],
   "source": [
    "df_fake.head()"
   ]
  },
  {
   "cell_type": "code",
   "execution_count": 6,
   "metadata": {},
   "outputs": [],
   "source": [
    "# label them seperately\n",
    "df_true['status'] = 0\n",
    "df_fake['status'] = 1"
   ]
  },
  {
   "cell_type": "code",
   "execution_count": 7,
   "metadata": {},
   "outputs": [],
   "source": [
    "# merge and remove unnecessary columns\n",
    "df = pd.concat([df_true, df_fake])\n",
    "df.drop(['subject', 'text', 'date'], axis=1, inplace=True)"
   ]
  },
  {
   "cell_type": "markdown",
   "metadata": {},
   "source": [
    "* Since we are going to build model only based on the title feature, hence dropped text, date , subject"
   ]
  },
  {
   "cell_type": "code",
   "execution_count": 8,
   "metadata": {},
   "outputs": [],
   "source": [
    "# let's blend the smoothie\n",
    "random_indexes = np.random.randint(0, len(df), len(df))\n",
    "df = df.iloc[random_indexes].reset_index(drop=True)"
   ]
  },
  {
   "cell_type": "markdown",
   "metadata": {},
   "source": [
    "## Text analysis"
   ]
  },
  {
   "cell_type": "code",
   "execution_count": 9,
   "metadata": {},
   "outputs": [
    {
     "data": {
      "text/html": [
       "<div>\n",
       "<style scoped>\n",
       "    .dataframe tbody tr th:only-of-type {\n",
       "        vertical-align: middle;\n",
       "    }\n",
       "\n",
       "    .dataframe tbody tr th {\n",
       "        vertical-align: top;\n",
       "    }\n",
       "\n",
       "    .dataframe thead th {\n",
       "        text-align: right;\n",
       "    }\n",
       "</style>\n",
       "<table border=\"1\" class=\"dataframe\">\n",
       "  <thead>\n",
       "    <tr style=\"text-align: right;\">\n",
       "      <th></th>\n",
       "      <th>title</th>\n",
       "      <th>status</th>\n",
       "    </tr>\n",
       "  </thead>\n",
       "  <tbody>\n",
       "    <tr>\n",
       "      <th>17003</th>\n",
       "      <td>Islamic State guerrilla attacks point to its future strategy</td>\n",
       "      <td>0</td>\n",
       "    </tr>\n",
       "    <tr>\n",
       "      <th>2996</th>\n",
       "      <td>DESPERATION OR STUPIDITY? GERMAN State Recruits REFUGEES With No Passports For Police Officer Jobs</td>\n",
       "      <td>1</td>\n",
       "    </tr>\n",
       "    <tr>\n",
       "      <th>36325</th>\n",
       "      <td>Vietnam braces for typhoon Khanun after floods kill 72</td>\n",
       "      <td>0</td>\n",
       "    </tr>\n",
       "    <tr>\n",
       "      <th>41213</th>\n",
       "      <td>Trump’s National Security Adviser Thinks Obama Was Right About Terrorism All Along</td>\n",
       "      <td>1</td>\n",
       "    </tr>\n",
       "    <tr>\n",
       "      <th>32086</th>\n",
       "      <td>Republican senator Graham says Trump's race remarks dividing U.S.</td>\n",
       "      <td>0</td>\n",
       "    </tr>\n",
       "    <tr>\n",
       "      <th>9106</th>\n",
       "      <td>Trump Promises To Destroy The USA During Interview With Lester Holt (VIDEO)</td>\n",
       "      <td>1</td>\n",
       "    </tr>\n",
       "    <tr>\n",
       "      <th>37468</th>\n",
       "      <td>FULL INTERVIEW: PRESIDENT TRUMP Nails It On Immigration, Obamacare, US Military, Jobs And “Incompetent” Nancy Pelosi [Video]</td>\n",
       "      <td>1</td>\n",
       "    </tr>\n",
       "    <tr>\n",
       "      <th>23698</th>\n",
       "      <td>Holiday cheer boosts Amazon, Macy's and other retail stocks</td>\n",
       "      <td>0</td>\n",
       "    </tr>\n",
       "    <tr>\n",
       "      <th>41866</th>\n",
       "      <td>Ranks of world's refugees swell as asylum space shrinks: U.N.</td>\n",
       "      <td>0</td>\n",
       "    </tr>\n",
       "    <tr>\n",
       "      <th>15074</th>\n",
       "      <td>WATCH: HISPANIC MAN WHO USED To “Beat up Trump supporters” Gets Choked Up In Passionate Speech About How LYING Media Turned Him Into A Trump Supporter</td>\n",
       "      <td>1</td>\n",
       "    </tr>\n",
       "    <tr>\n",
       "      <th>44669</th>\n",
       "      <td>U OF CHICAGO Admissions Blames Trump For Chicago’s Violent Image…Offers Students CASH For Best Idea Of How To Deceive Prospective Students About Violence [VIDEO]</td>\n",
       "      <td>1</td>\n",
       "    </tr>\n",
       "    <tr>\n",
       "      <th>35491</th>\n",
       "      <td>Trump fires his national political director: campaign sources</td>\n",
       "      <td>0</td>\n",
       "    </tr>\n",
       "    <tr>\n",
       "      <th>21341</th>\n",
       "      <td>Turkey cautions citizens about travel to 'anti-Turkey' Germany</td>\n",
       "      <td>0</td>\n",
       "    </tr>\n",
       "    <tr>\n",
       "      <th>30236</th>\n",
       "      <td>Robert Parry: What to Do About ‘Fake News’</td>\n",
       "      <td>1</td>\n",
       "    </tr>\n",
       "    <tr>\n",
       "      <th>29039</th>\n",
       "      <td>Oregon governor blasts federal response to refuge standoff</td>\n",
       "      <td>0</td>\n",
       "    </tr>\n",
       "    <tr>\n",
       "      <th>23160</th>\n",
       "      <td>EU warns Trump against recognizing Jerusalem as Israeli capital</td>\n",
       "      <td>0</td>\n",
       "    </tr>\n",
       "    <tr>\n",
       "      <th>4365</th>\n",
       "      <td>Bilderberg to Meet Next Week in Chantilly, Virginia</td>\n",
       "      <td>1</td>\n",
       "    </tr>\n",
       "    <tr>\n",
       "      <th>29738</th>\n",
       "      <td>Uncovered Video: Trump Makes CREEPIEST Comments Yet About His Daughter (VIDEO)</td>\n",
       "      <td>1</td>\n",
       "    </tr>\n",
       "    <tr>\n",
       "      <th>22217</th>\n",
       "      <td>TRUMP NAILS IT AGAIN: “Americans are sick of being the patsies!”</td>\n",
       "      <td>1</td>\n",
       "    </tr>\n",
       "    <tr>\n",
       "      <th>6226</th>\n",
       "      <td>Saudi-backed military alliance to help G5 Sahel fight: minister</td>\n",
       "      <td>0</td>\n",
       "    </tr>\n",
       "  </tbody>\n",
       "</table>\n",
       "</div>"
      ],
      "text/plain": [
       "                                                                                                                                                                   title  \\\n",
       "17003                                                                                                       Islamic State guerrilla attacks point to its future strategy   \n",
       "2996                                                                  DESPERATION OR STUPIDITY? GERMAN State Recruits REFUGEES With No Passports For Police Officer Jobs   \n",
       "36325                                                                                                             Vietnam braces for typhoon Khanun after floods kill 72   \n",
       "41213                                                                                 Trump’s National Security Adviser Thinks Obama Was Right About Terrorism All Along   \n",
       "32086                                                                                                  Republican senator Graham says Trump's race remarks dividing U.S.   \n",
       "9106                                                                                         Trump Promises To Destroy The USA During Interview With Lester Holt (VIDEO)   \n",
       "37468                                       FULL INTERVIEW: PRESIDENT TRUMP Nails It On Immigration, Obamacare, US Military, Jobs And “Incompetent” Nancy Pelosi [Video]   \n",
       "23698                                                                                                        Holiday cheer boosts Amazon, Macy's and other retail stocks   \n",
       "41866                                                                                                      Ranks of world's refugees swell as asylum space shrinks: U.N.   \n",
       "15074             WATCH: HISPANIC MAN WHO USED To “Beat up Trump supporters” Gets Choked Up In Passionate Speech About How LYING Media Turned Him Into A Trump Supporter   \n",
       "44669  U OF CHICAGO Admissions Blames Trump For Chicago’s Violent Image…Offers Students CASH For Best Idea Of How To Deceive Prospective Students About Violence [VIDEO]   \n",
       "35491                                                                                                      Trump fires his national political director: campaign sources   \n",
       "21341                                                                                                     Turkey cautions citizens about travel to 'anti-Turkey' Germany   \n",
       "30236                                                                                                                         Robert Parry: What to Do About ‘Fake News’   \n",
       "29039                                                                                                         Oregon governor blasts federal response to refuge standoff   \n",
       "23160                                                                                                    EU warns Trump against recognizing Jerusalem as Israeli capital   \n",
       "4365                                                                                                                 Bilderberg to Meet Next Week in Chantilly, Virginia   \n",
       "29738                                                                                     Uncovered Video: Trump Makes CREEPIEST Comments Yet About His Daughter (VIDEO)   \n",
       "22217                                                                                                   TRUMP NAILS IT AGAIN: “Americans are sick of being the patsies!”   \n",
       "6226                                                                                                     Saudi-backed military alliance to help G5 Sahel fight: minister   \n",
       "\n",
       "       status  \n",
       "17003       0  \n",
       "2996        1  \n",
       "36325       0  \n",
       "41213       1  \n",
       "32086       0  \n",
       "9106        1  \n",
       "37468       1  \n",
       "23698       0  \n",
       "41866       0  \n",
       "15074       1  \n",
       "44669       1  \n",
       "35491       0  \n",
       "21341       0  \n",
       "30236       1  \n",
       "29039       0  \n",
       "23160       0  \n",
       "4365        1  \n",
       "29738       1  \n",
       "22217       1  \n",
       "6226        0  "
      ]
     },
     "execution_count": 9,
     "metadata": {},
     "output_type": "execute_result"
    }
   ],
   "source": [
    "pd.set_option('display.max_colwidth', 500)\n",
    "random = np.random.randint(0, len(df), 20)\n",
    "df.iloc[random]"
   ]
  },
  {
   "cell_type": "markdown",
   "metadata": {},
   "source": [
    "* work needs to be done on data before feeding to neural network-\n",
    "1. Remove punctuations eg \"\"\n",
    "2. Convert uppercase to lowercase\n",
    "3. No need to apply stemming, otherwise it will just shorten the word unnecessary\n",
    "4. Apply lemmatization\n",
    "5. Remove all the stopwords\n",
    "6. Finally make vocabulary after completion of 5 steps"
   ]
  },
  {
   "cell_type": "code",
   "execution_count": 10,
   "metadata": {},
   "outputs": [
    {
     "data": {
      "text/plain": [
       "title     0\n",
       "status    0\n",
       "dtype: int64"
      ]
     },
     "execution_count": 10,
     "metadata": {},
     "output_type": "execute_result"
    }
   ],
   "source": [
    "# Null values\n",
    "df.isnull().sum()"
   ]
  },
  {
   "cell_type": "code",
   "execution_count": 11,
   "metadata": {},
   "outputs": [
    {
     "name": "stdout",
     "output_type": "stream",
     "text": [
      "longest sentence having length -\n",
      "42\n"
     ]
    }
   ],
   "source": [
    "# longest sentence length\n",
    "def longest_sentence_length(text):\n",
    "    return len(text.split())\n",
    "\n",
    "\n",
    "df['maximum_length'] = df['title'].apply(lambda x: longest_sentence_length(x))\n",
    "print('longest sentence having length -')\n",
    "max_length = max(df['maximum_length'].values)\n",
    "print(max_length)"
   ]
  },
  {
   "cell_type": "code",
   "execution_count": 12,
   "metadata": {},
   "outputs": [],
   "source": [
    "# Text cleaning\n",
    "text_cleaning = \"\\b0\\S*|\\b[^A-Za-z0-9]+\"\n",
    "\n",
    "\n",
    "def preprocess_filter(text, stem=False):\n",
    "    text = re.sub(text_cleaning, \" \", str(text.lower()).strip())\n",
    "    tokens = []\n",
    "    for token in text.split():\n",
    "        if token not in stop_words:\n",
    "            if stem:\n",
    "                stemmer = SnowballStemmer(language='english')\n",
    "                token = stemmer.stem(token)\n",
    "            tokens.append(token)\n",
    "    return \" \".join(tokens)"
   ]
  },
  {
   "cell_type": "markdown",
   "metadata": {},
   "source": [
    "* The regular expression pattern removes non-alphanumeric characters and digits, enhancing text cleanliness for subsequent analysis.\n",
    "* Text preprocessing function standardizes text by converting it to lowercase, removing stop words, and optionally applying stemming, facilitating effective natural language processing.\n",
    "* Stemming simplifies words to their root forms, aiding in capturing underlying semantic meanings and improving search accuracy.\n",
    "* Removal of stop words reduces noise in text data, focusing on informative words and enhancing the quality of subsequent analysis."
   ]
  },
  {
   "cell_type": "code",
   "execution_count": 13,
   "metadata": {},
   "outputs": [],
   "source": [
    "# Word embedding with pre padding\n",
    "def one_hot_encoded(text, vocab_size=5000, max_length=40):\n",
    "    hot_encoded = one_hot(text, vocab_size)\n",
    "    return hot_encoded"
   ]
  },
  {
   "cell_type": "code",
   "execution_count": 14,
   "metadata": {},
   "outputs": [],
   "source": [
    "# word embedding pipeline\n",
    "def word_embedding(text):\n",
    "    preprocessed_text = preprocess_filter(text)\n",
    "    return one_hot_encoded(preprocessed_text)"
   ]
  },
  {
   "cell_type": "code",
   "execution_count": 15,
   "metadata": {},
   "outputs": [
    {
     "name": "stdout",
     "output_type": "stream",
     "text": [
      "WARNING:tensorflow:From c:\\users\\donfa\\appdata\\local\\programs\\python\\python39\\lib\\site-packages\\keras\\src\\backend.py:873: The name tf.get_default_graph is deprecated. Please use tf.compat.v1.get_default_graph instead.\n",
      "\n",
      "WARNING:tensorflow:From c:\\users\\donfa\\appdata\\local\\programs\\python\\python39\\lib\\site-packages\\keras\\src\\optimizers\\__init__.py:309: The name tf.train.Optimizer is deprecated. Please use tf.compat.v1.train.Optimizer instead.\n",
      "\n",
      "Model: \"sequential\"\n",
      "_________________________________________________________________\n",
      " Layer (type)                Output Shape              Param #   \n",
      "=================================================================\n",
      " embedding (Embedding)       (None, 42, 40)            200000    \n",
      "                                                                 \n",
      " lstm (LSTM)                 (None, 100)               56400     \n",
      "                                                                 \n",
      " dense (Dense)               (None, 1)                 101       \n",
      "                                                                 \n",
      "=================================================================\n",
      "Total params: 256501 (1001.96 KB)\n",
      "Trainable params: 256501 (1001.96 KB)\n",
      "Non-trainable params: 0 (0.00 Byte)\n",
      "_________________________________________________________________\n",
      "None\n"
     ]
    }
   ],
   "source": [
    "# Creating NN Model\n",
    "embedded_features = 40\n",
    "model = Sequential()\n",
    "model.add(Embedding(5000, embedded_features, input_length=max_length))\n",
    "model.add(LSTM(100))\n",
    "model.add(Dense(1, activation='sigmoid'))\n",
    "model.compile(loss='binary_crossentropy',\n",
    "              optimizer='adam', metrics=['accuracy'])\n",
    "print(model.summary())"
   ]
  },
  {
   "cell_type": "markdown",
   "metadata": {},
   "source": [
    "* The model utilizes a vocabulary size of 5000, reflecting the extensive nature of the dataset and the need to handle a wide range of words effectively.\n",
    "* By embedding input tokens into 40-dimensional vectors, the model captures nuanced semantic relationships, crucial for understanding the complex language patterns present in the dataset.\n",
    "* Leveraging an LSTM layer with 100 units, the model effectively learns from the extensive sequential data, ensuring it captures long-term dependencies and context effectively.\n",
    "* With a final dense layer employing a sigmoid activation function, the model delivers binary classification predictions, adeptly classifying the vast and varied dataset with accuracy."
   ]
  },
  {
   "cell_type": "code",
   "execution_count": 16,
   "metadata": {},
   "outputs": [],
   "source": [
    "# One hot encoded title\n",
    "one_hot_encoded_title = df['title'].apply(lambda x: word_embedding(x)).values"
   ]
  },
  {
   "cell_type": "code",
   "execution_count": 17,
   "metadata": {},
   "outputs": [],
   "source": [
    "# padding to make the size equal of the sequences\n",
    "padded_encoded_title = pad_sequences(\n",
    "    one_hot_encoded_title, maxlen=max_length, padding='pre')"
   ]
  },
  {
   "cell_type": "code",
   "execution_count": 18,
   "metadata": {},
   "outputs": [
    {
     "name": "stdout",
     "output_type": "stream",
     "text": [
      "(44898, 42)\n",
      "(44898,)\n"
     ]
    }
   ],
   "source": [
    "# Splitting\n",
    "X = padded_encoded_title\n",
    "y = df['status'].values\n",
    "y = np.array(y)\n",
    "\n",
    "# shapes\n",
    "print(X.shape)\n",
    "print(y.shape)"
   ]
  },
  {
   "cell_type": "code",
   "execution_count": 19,
   "metadata": {},
   "outputs": [
    {
     "name": "stdout",
     "output_type": "stream",
     "text": [
      "X shape (44898, 42)\n",
      "y shape (44898,)\n"
     ]
    }
   ],
   "source": [
    "# shape and size\n",
    "print('X shape {}'.format(X.shape))\n",
    "print('y shape {}'.format(y.shape))"
   ]
  },
  {
   "cell_type": "code",
   "execution_count": 20,
   "metadata": {},
   "outputs": [
    {
     "name": "stdout",
     "output_type": "stream",
     "text": [
      "X train shape (33673, 42)\n",
      "X test shape (11225, 42)\n",
      "y train shape (33673,)\n",
      "y test shape (11225,)\n"
     ]
    }
   ],
   "source": [
    "# Splitting into training, testing\n",
    "X_train, X_test, y_train, y_test = train_test_split(X, y, random_state=42)\n",
    "\n",
    "# Shape and size of train and test dataset\n",
    "print('X train shape {}'.format(X_train.shape))\n",
    "print('X test shape {}'.format(X_test.shape))\n",
    "print('y train shape {}'.format(y_train.shape))\n",
    "print('y test shape {}'.format(y_test.shape))"
   ]
  },
  {
   "cell_type": "code",
   "execution_count": 21,
   "metadata": {},
   "outputs": [
    {
     "name": "stdout",
     "output_type": "stream",
     "text": [
      "Epoch 1/15\n",
      "WARNING:tensorflow:From c:\\users\\donfa\\appdata\\local\\programs\\python\\python39\\lib\\site-packages\\keras\\src\\utils\\tf_utils.py:492: The name tf.ragged.RaggedTensorValue is deprecated. Please use tf.compat.v1.ragged.RaggedTensorValue instead.\n",
      "\n",
      "WARNING:tensorflow:From c:\\users\\donfa\\appdata\\local\\programs\\python\\python39\\lib\\site-packages\\keras\\src\\engine\\base_layer_utils.py:384: The name tf.executing_eagerly_outside_functions is deprecated. Please use tf.compat.v1.executing_eagerly_outside_functions instead.\n",
      "\n",
      "527/527 [==============================] - 25s 42ms/step - loss: 0.2068 - accuracy: 0.9174 - val_loss: 0.1137 - val_accuracy: 0.9558\n",
      "Epoch 2/15\n",
      "527/527 [==============================] - 21s 40ms/step - loss: 0.0790 - accuracy: 0.9721 - val_loss: 0.0948 - val_accuracy: 0.9661\n",
      "Epoch 3/15\n",
      "527/527 [==============================] - 21s 41ms/step - loss: 0.0435 - accuracy: 0.9855 - val_loss: 0.0989 - val_accuracy: 0.9692\n",
      "Epoch 4/15\n",
      "527/527 [==============================] - 24s 46ms/step - loss: 0.0261 - accuracy: 0.9915 - val_loss: 0.1091 - val_accuracy: 0.9702\n",
      "Epoch 5/15\n",
      "527/527 [==============================] - 24s 45ms/step - loss: 0.0159 - accuracy: 0.9948 - val_loss: 0.1574 - val_accuracy: 0.9677\n",
      "Epoch 6/15\n",
      "527/527 [==============================] - 22s 42ms/step - loss: 0.0114 - accuracy: 0.9962 - val_loss: 0.1486 - val_accuracy: 0.9702\n",
      "Epoch 7/15\n",
      "527/527 [==============================] - 26s 49ms/step - loss: 0.0070 - accuracy: 0.9979 - val_loss: 0.1691 - val_accuracy: 0.9718\n",
      "Epoch 8/15\n",
      "527/527 [==============================] - 24s 45ms/step - loss: 0.0064 - accuracy: 0.9979 - val_loss: 0.1925 - val_accuracy: 0.9672\n",
      "Epoch 9/15\n",
      "527/527 [==============================] - 25s 47ms/step - loss: 0.0063 - accuracy: 0.9976 - val_loss: 0.1852 - val_accuracy: 0.9693\n",
      "Epoch 10/15\n",
      "527/527 [==============================] - 25s 48ms/step - loss: 0.0041 - accuracy: 0.9988 - val_loss: 0.2039 - val_accuracy: 0.9693\n",
      "Epoch 11/15\n",
      "527/527 [==============================] - 26s 49ms/step - loss: 0.0032 - accuracy: 0.9991 - val_loss: 0.2157 - val_accuracy: 0.9699\n",
      "Epoch 12/15\n",
      "527/527 [==============================] - 24s 45ms/step - loss: 0.0027 - accuracy: 0.9991 - val_loss: 0.2267 - val_accuracy: 0.9702\n",
      "Epoch 13/15\n",
      "527/527 [==============================] - 26s 49ms/step - loss: 0.0046 - accuracy: 0.9984 - val_loss: 0.1953 - val_accuracy: 0.9705\n",
      "Epoch 14/15\n",
      "527/527 [==============================] - 25s 48ms/step - loss: 0.0051 - accuracy: 0.9983 - val_loss: 0.2011 - val_accuracy: 0.9679\n",
      "Epoch 15/15\n",
      "527/527 [==============================] - 24s 45ms/step - loss: 0.0020 - accuracy: 0.9995 - val_loss: 0.2265 - val_accuracy: 0.9685\n"
     ]
    }
   ],
   "source": [
    "# Model training\n",
    "# training\n",
    "history= model.fit(X_train, y_train, validation_data=(\n",
    "    X_test, y_test), epochs=15, batch_size=64)"
   ]
  },
  {
   "cell_type": "code",
   "execution_count": 22,
   "metadata": {},
   "outputs": [
    {
     "data": {
      "image/png": "[encoded data removed]",
      "text/plain": [
       "<Figure size 640x480 with 1 Axes>"
      ]
     },
     "metadata": {},
     "output_type": "display_data"
    },
    {
     "data": {
      "image/png": "[encoded data removed]",
      "text/plain": [
       "<Figure size 640x480 with 1 Axes>"
      ]
     },
     "metadata": {},
     "output_type": "display_data"
    }
   ],
   "source": [
    "# Plot training & validation accuracy values\n",
    "plt.plot(history.history['accuracy'])\n",
    "plt.plot(history.history['val_accuracy'])\n",
    "plt.title('Model accuracy')\n",
    "plt.ylabel('Accuracy')\n",
    "plt.xlabel('Epoch')\n",
    "plt.legend(['Train', 'Test'], loc='upper left')\n",
    "plt.show()\n",
    "\n",
    "# Plot training & validation loss values\n",
    "plt.plot(history.history['loss'])\n",
    "plt.plot(history.history['val_loss'])\n",
    "plt.title('Model loss')\n",
    "plt.ylabel('Loss')\n",
    "plt.xlabel('Epoch')\n",
    "plt.legend(['Train', 'Test'], loc='upper left')\n",
    "plt.show()"
   ]
  },
  {
   "cell_type": "markdown",
   "metadata": {},
   "source": [
    "## Evaluation"
   ]
  },
  {
   "cell_type": "code",
   "execution_count": 23,
   "metadata": {},
   "outputs": [],
   "source": [
    "# setting threshold value\n",
    "def best_threshold_value(thresholds: list, X_test):\n",
    "    accuracies = []\n",
    "    for thresh in thresholds:\n",
    "        ypred = model.predict(X_test)\n",
    "        ypred = np.where(ypred > thresh, 1, 0)\n",
    "        accuracies.append(accuracy_score(y_test, ypred))\n",
    "    return pd.DataFrame({\n",
    "        'Threshold': thresholds,\n",
    "        'Accuracy': accuracies\n",
    "    })"
   ]
  },
  {
   "cell_type": "code",
   "execution_count": 24,
   "metadata": {},
   "outputs": [
    {
     "name": "stdout",
     "output_type": "stream",
     "text": [
      "351/351 [==============================] - 4s 10ms/step\n",
      "351/351 [==============================] - 3s 10ms/step\n",
      "351/351 [==============================] - 4s 10ms/step\n",
      "351/351 [==============================] - 4s 10ms/step\n",
      "351/351 [==============================] - 4s 11ms/step\n",
      "351/351 [==============================] - 4s 11ms/step\n"
     ]
    },
    {
     "data": {
      "text/html": [
       "<div>\n",
       "<style scoped>\n",
       "    .dataframe tbody tr th:only-of-type {\n",
       "        vertical-align: middle;\n",
       "    }\n",
       "\n",
       "    .dataframe tbody tr th {\n",
       "        vertical-align: top;\n",
       "    }\n",
       "\n",
       "    .dataframe thead th {\n",
       "        text-align: right;\n",
       "    }\n",
       "</style>\n",
       "<table border=\"1\" class=\"dataframe\">\n",
       "  <thead>\n",
       "    <tr style=\"text-align: right;\">\n",
       "      <th></th>\n",
       "      <th>Threshold</th>\n",
       "      <th>Accuracy</th>\n",
       "    </tr>\n",
       "  </thead>\n",
       "  <tbody>\n",
       "    <tr>\n",
       "      <th>0</th>\n",
       "      <td>0.4</td>\n",
       "      <td>0.968820</td>\n",
       "    </tr>\n",
       "    <tr>\n",
       "      <th>1</th>\n",
       "      <td>0.5</td>\n",
       "      <td>0.968463</td>\n",
       "    </tr>\n",
       "    <tr>\n",
       "      <th>2</th>\n",
       "      <td>0.6</td>\n",
       "      <td>0.968998</td>\n",
       "    </tr>\n",
       "    <tr>\n",
       "      <th>3</th>\n",
       "      <td>0.7</td>\n",
       "      <td>0.969443</td>\n",
       "    </tr>\n",
       "    <tr>\n",
       "      <th>4</th>\n",
       "      <td>0.8</td>\n",
       "      <td>0.969621</td>\n",
       "    </tr>\n",
       "    <tr>\n",
       "      <th>5</th>\n",
       "      <td>0.9</td>\n",
       "      <td>0.969443</td>\n",
       "    </tr>\n",
       "  </tbody>\n",
       "</table>\n",
       "</div>"
      ],
      "text/plain": [
       "   Threshold  Accuracy\n",
       "0        0.4  0.968820\n",
       "1        0.5  0.968463\n",
       "2        0.6  0.968998\n",
       "3        0.7  0.969443\n",
       "4        0.8  0.969621\n",
       "5        0.9  0.969443"
      ]
     },
     "execution_count": 24,
     "metadata": {},
     "output_type": "execute_result"
    }
   ],
   "source": [
    "best_threshold_value([0.4, 0.5, 0.6, 0.7, 0.8, 0.9], X_test)"
   ]
  },
  {
   "cell_type": "markdown",
   "metadata": {},
   "source": [
    "* Not much difference in accuray \n",
    "* But the most suitable threshold value we have got is **0.4**"
   ]
  },
  {
   "cell_type": "code",
   "execution_count": 25,
   "metadata": {},
   "outputs": [
    {
     "name": "stdout",
     "output_type": "stream",
     "text": [
      "351/351 [==============================] - 4s 10ms/step\n"
     ]
    }
   ],
   "source": [
    "# Predictino value at threshold 0.4\n",
    "y_pred = model.predict(X_test)\n",
    "y_pred = np.where(y_pred > 0.4, 1, 0)"
   ]
  },
  {
   "cell_type": "code",
   "execution_count": 26,
   "metadata": {},
   "outputs": [
    {
     "name": "stdout",
     "output_type": "stream",
     "text": [
      "Confusion matrix\n",
      "[[5134  145]\n",
      " [ 205 5741]]\n",
      "----------------\n",
      "Classification report\n",
      "              precision    recall  f1-score   support\n",
      "\n",
      "           0       0.96      0.97      0.97      5279\n",
      "           1       0.98      0.97      0.97      5946\n",
      "\n",
      "    accuracy                           0.97     11225\n",
      "   macro avg       0.97      0.97      0.97     11225\n",
      "weighted avg       0.97      0.97      0.97     11225\n",
      "\n"
     ]
    }
   ],
   "source": [
    "# Confusion matrix\n",
    "print('Confusion matrix')\n",
    "print(confusion_matrix(y_pred, y_test))\n",
    "print('----------------')\n",
    "print('Classification report')\n",
    "print(classification_report(y_pred, y_test))"
   ]
  },
  {
   "cell_type": "code",
   "execution_count": 27,
   "metadata": {},
   "outputs": [],
   "source": [
    "model.save(\"lstmmo.h5\")"
   ]
  },
  {
   "cell_type": "markdown",
   "metadata": {},
   "source": [
    "* The model performs well in both classes, with high precision, recall, and F1-score, suggesting robustness in classification.\n",
    "* There is no significant imbalance in performance between the two classes, as evidenced by similar metrics for both classes.\n",
    "* The model's overall performance is excellent, achieving high accuracy on the dataset."
   ]
  },
  {
   "cell_type": "markdown",
   "metadata": {},
   "source": [
    "## Predictions"
   ]
  },
  {
   "cell_type": "code",
   "execution_count": 28,
   "metadata": {},
   "outputs": [],
   "source": [
    "# input generator\n",
    "def prediction_input_processing(text):\n",
    "    encoded = word_embedding(text)\n",
    "    padded_encoded_title = pad_sequences(\n",
    "        [encoded], maxlen=max_length, padding='pre')\n",
    "    output = model.predict(padded_encoded_title)\n",
    "    output = np.where(0.4 > output, 1, 0)\n",
    "    if output[0][0] == 1:\n",
    "        return 'Yes this News is fake'\n",
    "    return 'No, It is not fake'"
   ]
  },
  {
   "cell_type": "code",
   "execution_count": 29,
   "metadata": {},
   "outputs": [
    {
     "name": "stdout",
     "output_type": "stream",
     "text": [
      "1/1 [==============================] - 0s 40ms/step\n"
     ]
    },
    {
     "data": {
      "text/plain": [
       "'Yes this News is fake'"
      ]
     },
     "execution_count": 29,
     "metadata": {},
     "output_type": "execute_result"
    }
   ],
   "source": [
    "# predictions\n",
    "prediction_input_processing(\n",
    "    'Americans are more concerned over Indians fake open source contribution')"
   ]
  },
  {
   "cell_type": "code",
   "execution_count": null,
   "metadata": {},
   "outputs": [],
   "source": []
  },
  {
   "cell_type": "code",
   "execution_count": 30,
   "metadata": {},
   "outputs": [
    {
     "name": "stdout",
     "output_type": "stream",
     "text": [
      "1/1 [==============================] - 0s 33ms/step\n"
     ]
    },
    {
     "data": {
      "text/plain": [
       "'No, It is not fake'"
      ]
     },
     "execution_count": 30,
     "metadata": {},
     "output_type": "execute_result"
    }
   ],
   "source": [
    "news = 'Trump Just Sent Michelle Obama a Bill She will Never Be able to pay in her lifetime'\n",
    "prediction_input_processing(news)"
   ]
  },
  {
   "cell_type": "code",
   "execution_count": 31,
   "metadata": {},
   "outputs": [
    {
     "name": "stdout",
     "output_type": "stream",
     "text": [
      "Training Classification Report:\n",
      "              precision    recall  f1-score   support\n",
      "\n",
      "           0       1.00      1.00      1.00     17110\n",
      "           1       1.00      1.00      1.00     18808\n",
      "\n",
      "    accuracy                           1.00     35918\n",
      "   macro avg       1.00      1.00      1.00     35918\n",
      "weighted avg       1.00      1.00      1.00     35918\n",
      "\n",
      "Testing Classification Report:\n",
      "              precision    recall  f1-score   support\n",
      "\n",
      "           0       0.97      0.98      0.98      4270\n",
      "           1       0.98      0.98      0.98      4710\n",
      "\n",
      "    accuracy                           0.98      8980\n",
      "   macro avg       0.98      0.98      0.98      8980\n",
      "weighted avg       0.98      0.98      0.98      8980\n",
      "\n"
     ]
    }
   ],
   "source": [
    "from sklearn.feature_extraction.text import CountVectorizer, TfidfVectorizer\n",
    "from sklearn.ensemble import RandomForestClassifier\n",
    "from sklearn.metrics import classification_report\n",
    "\n",
    "# Convert text data into numerical features using TF-IDF\n",
    "tfidf_vectorizer = TfidfVectorizer(max_features=5000)\n",
    "X_tfidf = tfidf_vectorizer.fit_transform(df['title'])\n",
    "\n",
    "# Splitting the data into training and testing sets\n",
    "X_train, X_test, y_train, y_test = train_test_split(\n",
    "    X_tfidf, df['status'], test_size=0.2, random_state=42)\n",
    "\n",
    "# Initialize and train the Random Forest classifier\n",
    "rf_classifier = RandomForestClassifier(n_estimators=100, random_state=42)\n",
    "rf_classifier.fit(X_train, y_train)\n",
    "\n",
    "# Predictions\n",
    "y_pred_train = rf_classifier.predict(X_train)\n",
    "y_pred_test = rf_classifier.predict(X_test)\n",
    "\n",
    "# Evaluate the model\n",
    "print(\"Training Classification Report:\")\n",
    "print(classification_report(y_train, y_pred_train))\n",
    "print(\"Testing Classification Report:\")\n",
    "print(classification_report(y_test, y_pred_test))"
   ]
  },
  {
   "cell_type": "code",
   "execution_count": 32,
   "metadata": {},
   "outputs": [
    {
     "name": "stdout",
     "output_type": "stream",
     "text": [
      "Training Classification Report:\n",
      "              precision    recall  f1-score   support\n",
      "\n",
      "           0       1.00      1.00      1.00     17110\n",
      "           1       1.00      1.00      1.00     18808\n",
      "\n",
      "    accuracy                           1.00     35918\n",
      "   macro avg       1.00      1.00      1.00     35918\n",
      "weighted avg       1.00      1.00      1.00     35918\n",
      "\n",
      "Testing Classification Report:\n",
      "              precision    recall  f1-score   support\n",
      "\n",
      "           0       0.96      0.96      0.96      4270\n",
      "           1       0.96      0.97      0.96      4710\n",
      "\n",
      "    accuracy                           0.96      8980\n",
      "   macro avg       0.96      0.96      0.96      8980\n",
      "weighted avg       0.96      0.96      0.96      8980\n",
      "\n"
     ]
    }
   ],
   "source": [
    "from sklearn.tree import DecisionTreeClassifier\n",
    "\n",
    "# Convert text data into numerical features using TF-IDF\n",
    "tfidf_vectorizer = TfidfVectorizer(max_features=5000)\n",
    "X_tfidf = tfidf_vectorizer.fit_transform(df['title'])\n",
    "\n",
    "# Splitting the data into training and testing sets\n",
    "X_train, X_test, y_train, y_test = train_test_split(\n",
    "    X_tfidf, df['status'], test_size=0.2, random_state=42)\n",
    "\n",
    "# Initialize and train the Decision Tree classifier\n",
    "dt_classifier = DecisionTreeClassifier(random_state=42)\n",
    "dt_classifier.fit(X_train, y_train)\n",
    "\n",
    "# Predictions\n",
    "y_pred_train = dt_classifier.predict(X_train)\n",
    "y_pred_test = dt_classifier.predict(X_test)\n",
    "\n",
    "# Evaluate the model\n",
    "print(\"Training Classification Report:\")\n",
    "print(classification_report(y_train, y_pred_train))\n",
    "print(\"Testing Classification Report:\")\n",
    "print(classification_report(y_test, y_pred_test))"
   ]
  },
  {
   "cell_type": "code",
   "execution_count": 33,
   "metadata": {},
   "outputs": [
    {
     "name": "stdout",
     "output_type": "stream",
     "text": [
      "Training Classification Report:\n",
      "              precision    recall  f1-score   support\n",
      "\n",
      "           0       0.96      0.97      0.97     17110\n",
      "           1       0.98      0.97      0.97     18808\n",
      "\n",
      "    accuracy                           0.97     35918\n",
      "   macro avg       0.97      0.97      0.97     35918\n",
      "weighted avg       0.97      0.97      0.97     35918\n",
      "\n",
      "Testing Classification Report:\n",
      "              precision    recall  f1-score   support\n",
      "\n",
      "           0       0.95      0.97      0.96      4270\n",
      "           1       0.97      0.96      0.96      4710\n",
      "\n",
      "    accuracy                           0.96      8980\n",
      "   macro avg       0.96      0.96      0.96      8980\n",
      "weighted avg       0.96      0.96      0.96      8980\n",
      "\n"
     ]
    }
   ],
   "source": [
    "from sklearn.linear_model import LogisticRegression\n",
    "\n",
    "# Convert text data into numerical features using TF-IDF\n",
    "tfidf_vectorizer = TfidfVectorizer(max_features=5000)\n",
    "X_tfidf = tfidf_vectorizer.fit_transform(df['title'])\n",
    "\n",
    "# Split the data into training and testing sets\n",
    "X_train, X_test, y_train, y_test = train_test_split(\n",
    "    X_tfidf, df['status'], test_size=0.2, random_state=42)\n",
    "\n",
    "# Initialize and train the Logistic Regression classifier\n",
    "lr_classifier = LogisticRegression(max_iter=1000, random_state=42)\n",
    "lr_classifier.fit(X_train, y_train)\n",
    "\n",
    "# Predictions\n",
    "y_pred_train = lr_classifier.predict(X_train)\n",
    "y_pred_test = lr_classifier.predict(X_test)\n",
    "\n",
    "# Evaluate the model\n",
    "print(\"Training Classification Report:\")\n",
    "print(classification_report(y_train, y_pred_train))\n",
    "print(\"Testing Classification Report:\")\n",
    "print(classification_report(y_test, y_pred_test))"
   ]
  },
  {
   "cell_type": "code",
   "execution_count": 34,
   "metadata": {},
   "outputs": [
    {
     "name": "stdout",
     "output_type": "stream",
     "text": [
      "Model: \"sequential_1\"\n",
      "_________________________________________________________________\n",
      " Layer (type)                Output Shape              Param #   \n",
      "=================================================================\n",
      " embedding_1 (Embedding)     (None, 40, 40)            200000    \n",
      "                                                                 \n",
      " conv1d (Conv1D)             (None, 36, 128)           25728     \n",
      "                                                                 \n",
      " global_max_pooling1d (Glob  (None, 128)               0         \n",
      " alMaxPooling1D)                                                 \n",
      "                                                                 \n",
      " dense_1 (Dense)             (None, 1)                 129       \n",
      "                                                                 \n",
      "=================================================================\n",
      "Total params: 225857 (882.25 KB)\n",
      "Trainable params: 225857 (882.25 KB)\n",
      "Non-trainable params: 0 (0.00 Byte)\n",
      "_________________________________________________________________\n",
      "None\n",
      "Epoch 1/15\n",
      "527/527 [==============================] - 6s 10ms/step - loss: 0.2172 - accuracy: 0.9154 - val_loss: 0.1073 - val_accuracy: 0.9615\n",
      "Epoch 2/15\n",
      "527/527 [==============================] - 5s 10ms/step - loss: 0.0691 - accuracy: 0.9777 - val_loss: 0.0865 - val_accuracy: 0.9704\n",
      "Epoch 3/15\n",
      "527/527 [==============================] - 5s 9ms/step - loss: 0.0292 - accuracy: 0.9919 - val_loss: 0.0861 - val_accuracy: 0.9731\n",
      "Epoch 4/15\n",
      "527/527 [==============================] - 5s 10ms/step - loss: 0.0105 - accuracy: 0.9975 - val_loss: 0.0985 - val_accuracy: 0.9722\n",
      "Epoch 5/15\n",
      "527/527 [==============================] - 5s 10ms/step - loss: 0.0039 - accuracy: 0.9994 - val_loss: 0.1112 - val_accuracy: 0.9726\n",
      "Epoch 6/15\n",
      "527/527 [==============================] - 5s 9ms/step - loss: 0.0014 - accuracy: 0.9998 - val_loss: 0.1169 - val_accuracy: 0.9734\n",
      "Epoch 7/15\n",
      "527/527 [==============================] - 5s 9ms/step - loss: 6.3033e-04 - accuracy: 0.9999 - val_loss: 0.1264 - val_accuracy: 0.9733\n",
      "Epoch 8/15\n",
      "527/527 [==============================] - 6s 11ms/step - loss: 3.1322e-04 - accuracy: 1.0000 - val_loss: 0.1317 - val_accuracy: 0.9733\n",
      "Epoch 9/15\n",
      "527/527 [==============================] - 6s 11ms/step - loss: 1.7786e-04 - accuracy: 1.0000 - val_loss: 0.1379 - val_accuracy: 0.9727\n",
      "Epoch 10/15\n",
      "527/527 [==============================] - 6s 12ms/step - loss: 1.2265e-04 - accuracy: 1.0000 - val_loss: 0.1439 - val_accuracy: 0.9724\n",
      "Epoch 11/15\n",
      "527/527 [==============================] - 8s 15ms/step - loss: 8.8003e-05 - accuracy: 1.0000 - val_loss: 0.1487 - val_accuracy: 0.9724\n",
      "Epoch 12/15\n",
      "527/527 [==============================] - 8s 15ms/step - loss: 6.4474e-05 - accuracy: 1.0000 - val_loss: 0.1536 - val_accuracy: 0.9725\n",
      "Epoch 13/15\n",
      "527/527 [==============================] - 6s 12ms/step - loss: 4.7621e-05 - accuracy: 1.0000 - val_loss: 0.1592 - val_accuracy: 0.9726\n",
      "Epoch 14/15\n",
      "527/527 [==============================] - 6s 12ms/step - loss: 3.5247e-05 - accuracy: 1.0000 - val_loss: 0.1641 - val_accuracy: 0.9722\n",
      "Epoch 15/15\n",
      "527/527 [==============================] - 8s 15ms/step - loss: 2.5838e-05 - accuracy: 1.0000 - val_loss: 0.1690 - val_accuracy: 0.9721\n"
     ]
    }
   ],
   "source": [
    "import re\n",
    "import numpy as np\n",
    "import pandas as pd\n",
    "from sklearn.model_selection import train_test_split\n",
    "from sklearn.metrics import accuracy_score, confusion_matrix, classification_report\n",
    "from tensorflow.keras.preprocessing.text import one_hot\n",
    "from tensorflow.keras.preprocessing.sequence import pad_sequences\n",
    "from tensorflow.keras.models import Sequential\n",
    "from tensorflow.keras.layers import Embedding, Conv1D, GlobalMaxPooling1D, Dense\n",
    "\n",
    "# Assuming max_length and embedded_features are defined\n",
    "max_length = 40\n",
    "embedded_features = 40\n",
    "\n",
    "# Text cleaning regex pattern\n",
    "text_cleaning = r'\\b0\\S*|\\b[^A-Za-z0-9]+'\n",
    "\n",
    "# Function for text preprocessing\n",
    "\n",
    "\n",
    "def preprocess_filter(text):\n",
    "    text = re.sub(text_cleaning, \" \", str(text).lower().strip())\n",
    "    return text\n",
    "\n",
    "# Function for one-hot encoding\n",
    "\n",
    "\n",
    "def one_hot_encoded(text, vocab_size=5000):\n",
    "    hot_encoded = one_hot(text, vocab_size)\n",
    "    return hot_encoded\n",
    "\n",
    "# Function for word embedding\n",
    "\n",
    "\n",
    "def word_embedding(text):\n",
    "    preprocessed_text = preprocess_filter(text)\n",
    "    hot_encoded = one_hot_encoded(preprocessed_text)\n",
    "    return hot_encoded\n",
    "\n",
    "\n",
    "# Creating CNN model\n",
    "model = Sequential()\n",
    "model.add(Embedding(5000, embedded_features, input_length=max_length))\n",
    "model.add(Conv1D(128, 5, activation='relu'))\n",
    "model.add(GlobalMaxPooling1D())\n",
    "model.add(Dense(1, activation='sigmoid'))\n",
    "model.compile(loss='binary_crossentropy',\n",
    "              optimizer='adam', metrics=['accuracy'])\n",
    "print(model.summary())\n",
    "\n",
    "# Assuming df is the DataFrame containing your data\n",
    "# One hot encoded title\n",
    "one_hot_encoded_title = df['title'].apply(lambda x: word_embedding(x)).values\n",
    "\n",
    "# Padding sequences\n",
    "padded_encoded_title = pad_sequences(\n",
    "    one_hot_encoded_title, maxlen=max_length, padding='pre')\n",
    "\n",
    "# Splitting data\n",
    "X = padded_encoded_title\n",
    "y = df['status'].values\n",
    "X_train, X_test, y_train, y_test = train_test_split(X, y, random_state=42)\n",
    "\n",
    "# Model training\n",
    "history = model.fit(X_train, y_train, validation_data=(\n",
    "    X_test, y_test), epochs=15, batch_size=64)"
   ]
  },
  {
   "cell_type": "code",
   "execution_count": 35,
   "metadata": {},
   "outputs": [
    {
     "data": {
      "image/png": "[encoded data removed]",
      "text/plain": [
       "<Figure size 640x480 with 1 Axes>"
      ]
     },
     "metadata": {},
     "output_type": "display_data"
    },
    {
     "data": {
      "image/png": "[encoded data removed]",
      "text/plain": [
       "<Figure size 640x480 with 1 Axes>"
      ]
     },
     "metadata": {},
     "output_type": "display_data"
    }
   ],
   "source": [
    "# Plot training & validation accuracy values\n",
    "plt.plot(history.history['accuracy'])\n",
    "plt.plot(history.history['val_accuracy'])\n",
    "plt.title('Model accuracy')\n",
    "plt.ylabel('Accuracy')\n",
    "plt.xlabel('Epoch')\n",
    "plt.legend(['Train', 'Test'], loc='upper left')\n",
    "plt.show()\n",
    "\n",
    "# Plot training & validation loss values\n",
    "plt.plot(history.history['loss'])\n",
    "plt.plot(history.history['val_loss'])\n",
    "plt.title('Model loss')\n",
    "plt.ylabel('Loss')\n",
    "plt.xlabel('Epoch')\n",
    "plt.legend(['Train', 'Test'], loc='upper left')\n",
    "plt.show()"
   ]
  },
  {
   "cell_type": "code",
   "execution_count": 35,
   "metadata": {},
   "outputs": [
    {
     "name": "stdout",
     "output_type": "stream",
     "text": [
      "351/351 [==============================] - 1s 1ms/step\n"
     ]
    }
   ],
   "source": [
    "y_pred = model.predict(X_test)\n",
    "y_pred = np.where(y_pred > 0.4, 1, 0)"
   ]
  },
  {
   "cell_type": "code",
   "execution_count": 36,
   "metadata": {},
   "outputs": [
    {
     "name": "stdout",
     "output_type": "stream",
     "text": [
      "Confusion matrix\n",
      "[[5193  125]\n",
      " [ 183 5724]]\n",
      "----------------\n",
      "Classification report\n",
      "              precision    recall  f1-score   support\n",
      "\n",
      "           0       0.97      0.98      0.97      5318\n",
      "           1       0.98      0.97      0.97      5907\n",
      "\n",
      "    accuracy                           0.97     11225\n",
      "   macro avg       0.97      0.97      0.97     11225\n",
      "weighted avg       0.97      0.97      0.97     11225\n",
      "\n"
     ]
    }
   ],
   "source": [
    "# Confusion matrix\n",
    "print('Confusion matrix')\n",
    "print(confusion_matrix(y_pred, y_test))\n",
    "print('----------------')\n",
    "print('Classification report')\n",
    "print(classification_report(y_pred, y_test))"
   ]
  },
  {
   "cell_type": "code",
   "execution_count": 37,
   "metadata": {},
   "outputs": [],
   "source": [
    "model.save(\"cnnmodel.h5\")"
   ]
  },
  {
   "cell_type": "code",
   "execution_count": 38,
   "metadata": {},
   "outputs": [
    {
     "name": "stdout",
     "output_type": "stream",
     "text": [
      "1/1 [==============================] - 0s 25ms/step\n",
      "No, it is not fake\n"
     ]
    }
   ],
   "source": [
    "# Function to predict input\n",
    "def prediction_input_processing(text):\n",
    "    encoded = word_embedding(text)\n",
    "    padded_encoded_title = pad_sequences(\n",
    "        [encoded], maxlen=max_length, padding='pre')\n",
    "    output = model.predict(padded_encoded_title)\n",
    "    output = np.where(output > 0.4, 1, 0)  # Adjust threshold as needed\n",
    "    if output[0][0] == 1:\n",
    "        return 'Yes, this news is fake'\n",
    "    return 'No, it is not fake'\n",
    "\n",
    "\n",
    "# Testing prediction\n",
    "print(prediction_input_processing(\n",
    "    'Americans are more concerned over Indians fake open source contribution'))"
   ]
  },
  {
   "cell_type": "code",
   "execution_count": 39,
   "metadata": {},
   "outputs": [
    {
     "name": "stdout",
     "output_type": "stream",
     "text": [
      "1/1 [==============================] - 0s 21ms/step\n"
     ]
    },
    {
     "data": {
      "text/plain": [
       "'No, it is not fake'"
      ]
     },
     "execution_count": 39,
     "metadata": {},
     "output_type": "execute_result"
    }
   ],
   "source": [
    "# predictions\n",
    "prediction_input_processing(\n",
    "    'Americans are more concerned over Indians fake open source contribution')"
   ]
  },
  {
   "cell_type": "code",
   "execution_count": 44,
   "metadata": {},
   "outputs": [
    {
     "name": "stdout",
     "output_type": "stream",
     "text": [
      "1/1 [==============================] - 0s 54ms/step\n",
      "Yes this News is fake\n"
     ]
    }
   ],
   "source": [
    "import numpy as np\n",
    "from tensorflow.keras.models import load_model\n",
    "from tensorflow.keras.preprocessing.sequence import pad_sequences\n",
    "\n",
    "# Load the trained model\n",
    "model = load_model(\"cnnmodel.h5\")\n",
    "# input generator\n",
    "\n",
    "\n",
    "def prediction_input_processing(text):\n",
    "    encoded = word_embedding(text)\n",
    "    padded_encoded_title = pad_sequences(\n",
    "        [encoded], maxlen=max_length, padding='pre')\n",
    "    output = model.predict(padded_encoded_title)\n",
    "    output = np.where(0.4 > output, 1, 0)\n",
    "    if output[0][0] == 1:\n",
    "        return 'Yes this News is fake'\n",
    "    return 'No, It is not fake'\n",
    "\n",
    "\n",
    "# Testing prediction\n",
    "print(prediction_input_processing(\n",
    "    'Americans are more concerned over Indians fake open source contribution'))"
   ]
  },
  {
   "cell_type": "code",
   "execution_count": null,
   "metadata": {},
   "outputs": [],
   "source": []
  }
 ],
 "metadata": {
  "kaggle": {
   "accelerator": "gpu",
   "dataSources": [
    {
     "datasetId": 2712039,
     "sourceId": 4679796,
     "sourceType": "datasetVersion"
    }
   ],
   "dockerImageVersionId": 30646,
   "isGpuEnabled": true,
   "isInternetEnabled": false,
   "language": "python",
   "sourceType": "notebook"
  },
  "kernelspec": {
   "display_name": "Python 3 (ipykernel)",
   "language": "python",
   "name": "python3"
  },
  "language_info": {
   "codemirror_mode": {
    "name": "ipython",
    "version": 3
   },
   "file_extension": ".py",
   "mimetype": "text/x-python",
   "name": "python",
   "nbconvert_exporter": "python",
   "pygments_lexer": "ipython3",
   "version": "3.9.0"
  }
 },
 "nbformat": 4,
 "nbformat_minor": 4
}
